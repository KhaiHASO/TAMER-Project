{
  "cells": [
    {
      "cell_type": "code",
      "execution_count": null,
      "metadata": {
        "id": "k0_-fbyFuAFG"
      },
      "outputs": [],
      "source": [
        "!wget https://repo.anaconda.com/miniconda/Miniconda3-latest-Linux-x86_64.sh\n",
        "!chmod +x Miniconda3-latest-Linux-x86_64.sh\n",
        "!bash ./Miniconda3-latest-Linux-x86_64.sh -b -f -p /usr/local/miniconda\n",
        "!rm Miniconda3-latest-Linux-x86_64.sh"
      ]
    },
    {
      "cell_type": "code",
      "execution_count": null,
      "metadata": {
        "id": "TlWAgKB0uEJo"
      },
      "outputs": [],
      "source": [
        "import os\n",
        "os.environ['PATH'] = \"/usr/local/miniconda/bin:\" + os.environ['PATH']\n",
        "!ln -s /usr/local/miniconda/bin/conda /usr/local/bin/conda\n",
        "!/usr/local/miniconda/bin/conda create -n tamer python=3.7 -y"
      ]
    },
    {
      "cell_type": "code",
      "execution_count": null,
      "metadata": {
        "id": "vdUoxO-GuvWo"
      },
      "outputs": [],
      "source": [
        "shell_script = \"\"\"\n",
        "source /usr/local/miniconda/bin/activate tamer\n",
        "python --version\n",
        "pip --version\n",
        "\"\"\"\n",
        "with open(\"activate_env.sh\", \"w\") as f:\n",
        "    f.write(shell_script)\n",
        "!bash activate_env.sh"
      ]
    },
    {
      "cell_type": "markdown",
      "metadata": {
        "id": "ZZQwNP0ruuxl"
      },
      "source": []
    },
    {
      "cell_type": "code",
      "execution_count": null,
      "metadata": {
        "id": "ymP6iGn9uFwE"
      },
      "outputs": [],
      "source": [
        "!git clone https://github.com/KhaiHASO/TAMER-Project.git"
      ]
    },
    {
      "cell_type": "code",
      "execution_count": null,
      "metadata": {
        "id": "lil-8cv9vB8g"
      },
      "outputs": [],
      "source": [
        "%cd TAMER-Project/0-baseline"
      ]
    },
    {
      "cell_type": "code",
      "execution_count": null,
      "metadata": {
        "id": "l8nCu2ZUwW8-"
      },
      "outputs": [],
      "source": [
        "!source /usr/local/miniconda/bin/activate tamer && conda install pytorch-lightning=1.4.9 torchmetrics=0.6.0 -c conda-forge -y\n",
        "!source /usr/local/miniconda/bin/activate tamer && conda install pandoc=1.19.2.1 -c conda-forge -y"
      ]
    },
    {
      "cell_type": "code",
      "execution_count": null,
      "metadata": {
        "id": "gjSBX3HcyKlQ"
      },
      "outputs": [],
      "source": [
        "!source /usr/local/miniconda/bin/activate tamer && conda install -c conda-forge libstdcxx-ng -y"
      ]
    },
    {
      "cell_type": "code",
      "execution_count": null,
      "metadata": {
        "id": "njHQ4M1muyZM"
      },
      "outputs": [],
      "source": [
        "!source /usr/local/miniconda/bin/activate tamer && pip install -r requirements.txt && pip install -e ."
      ]
    },
    {
      "cell_type": "code",
      "execution_count": null,
      "metadata": {
        "id": "sU6GOidMu6rR"
      },
      "outputs": [],
      "source": [
        "!unzip /content/TAMER-Project/0-baseline/data/CROHME.zip -d /content/TAMER-Project/0-baseline/data/"
      ]
    },
    {
      "cell_type": "code",
      "execution_count": null,
      "metadata": {
        "id": "tkUag3ALuIf3"
      },
      "outputs": [],
      "source": [
        "!source /usr/local/miniconda/bin/activate tamer && python train.py --config config/crohme.yaml --trainer.overfit_batches=1"
      ]
    }
  ],
  "metadata": {
    "accelerator": "GPU",
    "colab": {
      "gpuType": "T4",
      "provenance": []
    },
    "kernelspec": {
      "display_name": "Python 3",
      "name": "python3"
    },
    "language_info": {
      "name": "python"
    }
  },
  "nbformat": 4,
  "nbformat_minor": 0
}
