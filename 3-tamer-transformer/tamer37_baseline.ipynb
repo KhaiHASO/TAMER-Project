{
  "nbformat": 4,
  "nbformat_minor": 0,
  "metadata": {
    "colab": {
      "provenance": [],
      "gpuType": "T4"
    },
    "kernelspec": {
      "name": "python3",
      "display_name": "Python 3"
    },
    "language_info": {
      "name": "python"
    },
    "accelerator": "GPU"
  },
  "cells": [
    {
      "cell_type": "code",
      "source": [
        "!wget https://repo.anaconda.com/miniconda/Miniconda3-latest-Linux-x86_64.sh\n",
        "!chmod +x Miniconda3-latest-Linux-x86_64.sh\n",
        "!bash ./Miniconda3-latest-Linux-x86_64.sh -b -f -p /usr/local/miniconda\n",
        "!rm Miniconda3-latest-Linux-x86_64.sh"
      ],
      "metadata": {
        "id": "k0_-fbyFuAFG"
      },
      "execution_count": null,
      "outputs": []
    },
    {
      "cell_type": "code",
      "source": [
        "import os\n",
        "os.environ['PATH'] = \"/usr/local/miniconda/bin:\" + os.environ['PATH']\n",
        "!ln -s /usr/local/miniconda/bin/conda /usr/local/bin/conda\n",
        "!/usr/local/miniconda/bin/conda create -n tamer python=3.7 -y"
      ],
      "metadata": {
        "id": "TlWAgKB0uEJo"
      },
      "execution_count": null,
      "outputs": []
    },
    {
      "cell_type": "code",
      "source": [
        "shell_script = \"\"\"\n",
        "source /usr/local/miniconda/bin/activate tamer\n",
        "python --version\n",
        "pip --version\n",
        "\"\"\"\n",
        "with open(\"activate_env.sh\", \"w\") as f:\n",
        "    f.write(shell_script)\n",
        "!bash activate_env.sh"
      ],
      "metadata": {
        "id": "vdUoxO-GuvWo"
      },
      "execution_count": null,
      "outputs": []
    },
    {
      "cell_type": "markdown",
      "source": [],
      "metadata": {
        "id": "ZZQwNP0ruuxl"
      }
    },
    {
      "cell_type": "code",
      "source": [
        "!git clone https://github.com/KhaiHASO/TAMER-Project.git"
      ],
      "metadata": {
        "id": "ymP6iGn9uFwE"
      },
      "execution_count": null,
      "outputs": []
    },
    {
      "cell_type": "code",
      "source": [
        "%cd TAMER-Project/0-baseline"
      ],
      "metadata": {
        "id": "lil-8cv9vB8g"
      },
      "execution_count": null,
      "outputs": []
    },
    {
      "cell_type": "code",
      "source": [
        "!source /usr/local/miniconda/bin/activate tamer && conda install pytorch-lightning=1.4.9 torchmetrics=0.6.0 -c conda-forge -y\n",
        "!source /usr/local/miniconda/bin/activate tamer && conda install pandoc=1.19.2.1 -c conda-forge -y"
      ],
      "metadata": {
        "id": "l8nCu2ZUwW8-"
      },
      "execution_count": null,
      "outputs": []
    },
    {
      "cell_type": "code",
      "source": [
        "!source /usr/local/miniconda/bin/activate tamer && conda install -c conda-forge libstdcxx-ng -y"
      ],
      "metadata": {
        "id": "gjSBX3HcyKlQ"
      },
      "execution_count": null,
      "outputs": []
    },
    {
      "cell_type": "code",
      "source": [
        "!source /usr/local/miniconda/bin/activate tamer && pip install -r requirements.txt && pip install -e ."
      ],
      "metadata": {
        "id": "njHQ4M1muyZM"
      },
      "execution_count": null,
      "outputs": []
    },
    {
      "cell_type": "code",
      "source": [
        "!unzip /content/TAMER-Project/0-baseline/data/CROHME.zip -d /content/TAMER-Project/0-baseline/data/"
      ],
      "metadata": {
        "id": "sU6GOidMu6rR"
      },
      "execution_count": null,
      "outputs": []
    },
    {
      "cell_type": "code",
      "source": [
        "!source /usr/local/miniconda/bin/activate tamer && python train.py --config config/crohme.yaml --trainer.overfit_batches=1"
      ],
      "metadata": {
        "id": "tkUag3ALuIf3"
      },
      "execution_count": null,
      "outputs": []
    }
  ]
}