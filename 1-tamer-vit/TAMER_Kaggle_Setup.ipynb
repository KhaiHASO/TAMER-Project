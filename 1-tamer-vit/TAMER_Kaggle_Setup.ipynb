{
  "cells": [
    {
      "cell_type": "markdown",
      "metadata": {},
      "source": [
        "# TAMER Project - Kaggle Setup\n",
        "\n",
        "Notebook này cài đặt và chạy TAMER Project trên Kaggle với Python 3.7 và conda"
      ]
    },
    {
      "cell_type": "code",
      "execution_count": null,
      "metadata": {},
      "outputs": [],
      "source": [
        "# Cài đặt Miniconda\n",
        "!wget https://repo.anaconda.com/miniconda/Miniconda3-latest-Linux-x86_64.sh\n",
        "!bash Miniconda3-latest-Linux-x86_64.sh -b -f -p /kaggle/working/miniconda\n",
        "!rm Miniconda3-latest-Linux-x86_64.sh\n",
        "\n",
        "# Thêm conda vào PATH\n",
        "import os\n",
        "os.environ['PATH'] = \"/kaggle/working/miniconda/bin:\" + os.environ['PATH']"
      ]
    },
    {
      "cell_type": "code",
      "execution_count": null,
      "metadata": {},
      "outputs": [],
      "source": [
        "# Tạo môi trường Python 3.7\n",
        "!/kaggle/working/miniconda/bin/conda create -n tamer python=3.7 -y"
      ]
    },
    {
      "cell_type": "code",
      "execution_count": null,
      "metadata": {},
      "outputs": [],
      "source": [
        "# Kiểm tra phiên bản Python và pip\n",
        "shell_script = \"\"\"\n",
        "source /kaggle/working/miniconda/bin/activate tamer\n",
        "python --version\n",
        "pip --version\n",
        "\"\"\"\n",
        "with open(\"activate_env.sh\", \"w\") as f:\n",
        "    f.write(shell_script)\n",
        "!bash activate_env.sh"
      ]
    },
    {
      "cell_type": "code",
      "execution_count": null,
      "metadata": {},
      "outputs": [],
      "source": [
        "# Clone repo\n",
        "!git clone https://github.com/KhaiHASO/TAMER-Project.git"
      ]
    },
    {
      "cell_type": "code",
      "execution_count": null,
      "metadata": {},
      "outputs": [],
      "source": [
        "# Di chuyển vào thư mục dự án\n",
        "%cd TAMER-Project/1-tamer-vit"
      ]
    },
    {
      "cell_type": "code",
      "execution_count": null,
      "metadata": {},
      "outputs": [],
      "source": [
        "# Cài đặt các gói từ conda\n",
        "!source /kaggle/working/miniconda/bin/activate tamer && conda install pytorch-lightning=1.4.9 torchmetrics=0.6.0 -c conda-forge -y\n",
        "!source /kaggle/working/miniconda/bin/activate tamer && conda install pandoc=1.19.2.1 -c conda-forge -y"
      ]
    },
    {
      "cell_type": "code",
      "execution_count": null,
      "metadata": {},
      "outputs": [],
      "source": [
        "# Cài đặt libstdcxx-ng để fix lỗi GLIBCXX\n",
        "!source /kaggle/working/miniconda/bin/activate tamer && conda install -c conda-forge libstdcxx-ng -y"
      ]
    },
    {
      "cell_type": "code",
      "execution_count": null,
      "metadata": {},
      "outputs": [],
      "source": [
        "# Cài đặt các gói từ requirements.txt và setup.py\n",
        "!source /kaggle/working/miniconda/bin/activate tamer && pip install -r requirements.txt && pip install -e ."
      ]
    },
    {
      "cell_type": "markdown",
      "metadata": {},
      "source": [
        "## Chuẩn bị dữ liệu\n",
        "\n",
        "Có hai cách để lấy dữ liệu:\n",
        "1. Giải nén từ repo (nếu có sẵn)\n",
        "2. Tải từ Kaggle dataset (nếu đã upload)"
      ]
    },
    {
      "cell_type": "code",
      "execution_count": null,
      "metadata": {},
      "outputs": [],
      "source": [
        "# Cách 1: Giải nén từ repo\n",
        "!unzip /kaggle/working/TAMER-Project/1-tamer-vit/data/CROHME.zip -d /kaggle/working/TAMER-Project/1-tamer-vit/data/"
      ]
    },
    {
      "cell_type": "code",
      "execution_count": null,
      "metadata": {},
      "outputs": [],
      "source": [
        "# Cách 2: Sử dụng từ Kaggle dataset (bỏ comment nếu sử dụng cách này)\n",
        "# !cp /kaggle/input/crohme-dataset/CROHME.zip /kaggle/working/TAMER-Project/1-tamer-vit/data/\n",
        "# !unzip /kaggle/working/TAMER-Project/1-tamer-vit/data/CROHME.zip -d /kaggle/working/TAMER-Project/1-tamer-vit/data/"
      ]
    },
    {
      "cell_type": "markdown",
      "metadata": {},
      "source": [
        "## Chạy training"
      ]
    },
    {
      "cell_type": "code",
      "execution_count": null,
      "metadata": {},
      "outputs": [],
      "source": [
        "# Chạy training với cấu hình CROHME\n",
        "!source /kaggle/working/miniconda/bin/activate tamer && python train.py --config config/crohme.yaml"
      ]
    },
    {
      "cell_type": "markdown",
      "metadata": {},
      "source": [
        "## Lưu kết quả và môi trường\n",
        "\n",
        "Lưu checkpoints và logs để có thể sử dụng trong các phiên tiếp theo"
      ]
    },
    {
      "cell_type": "code",
      "execution_count": null,
      "metadata": {},
      "outputs": [],
      "source": [
        "# Lưu kết quả training\n",
        "!mkdir -p /kaggle/output/tamer_results\n",
        "!cp -r /kaggle/working/TAMER-Project/1-tamer-vit/lightning_logs /kaggle/output/tamer_results/"
      ]
    },
    {
      "cell_type": "code",
      "execution_count": null,
      "metadata": {},
      "outputs": [],
      "source": [
        "# Xuất môi trường conda để sử dụng lại trong phiên sau\n",
        "!source /kaggle/working/miniconda/bin/activate tamer && conda env export > /kaggle/output/tamer_environment.yml"
      ]
    }
  ],
  "metadata": {
    "accelerator": "gpu",
    "kernelspec": {
      "display_name": "Python 3",
      "language": "python",
      "name": "python3"
    },
    "language_info": {
      "codemirror_mode": {
        "name": "ipython",
        "version": 3
      },
      "file_extension": ".py",
      "mimetype": "text/x-python",
      "name": "python",
      "nbconvert_exporter": "python",
      "pygments_lexer": "ipython3",
      "version": "3.7.0"
    }
  },
  "nbformat": 4,
  "nbformat_minor": 4
}
